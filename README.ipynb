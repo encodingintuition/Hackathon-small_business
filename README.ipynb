{
 "cells": [
  {
   "cell_type": "markdown",
   "metadata": {},
   "source": [
    "# Small Business Hackathon \n",
    "<hr/>\n",
    " "
   ]
  },
  {
   "cell_type": "markdown",
   "metadata": {},
   "source": [
    "Team : Hidden Gem  \n",
    "UX:  [Nandinis Gupta](https://www.linkedin.com/in/nandinisgupta) ,  [Sari Beall](https://www.linkedin.com/in/sari-beall/) , and [Natallia Berakchyian](https://www.linkedin.com/in/natalliaberakchyian/)  \n",
    "SE: [Evandro Rodrigues](https://www.linkedin.com/in/evandro-jr-rodrigues/), [Alexander Bos](https://www.linkedin.com/in/alexander-bos/), and [Zander Horstman](https://www.linkedin.com/in/zanderhorstman/)  \n",
    "DS: [Christopher Villafuerte](https://www.linkedin.com/in/christophervillafuerte/)\n",
    "<br>"
   ]
  },
  {
   "cell_type": "markdown",
   "metadata": {},
   "source": [
    "### Concept:\n",
    "\n",
    "Hidden Gem is a listing site dedicated to small business Bed and Breakfasts. In addition to a listing site that caters to Bed & Breakfast patrons' nuances, Hidden Gem contains a catalog of unique attractions that local business owners have entered.  These attractions can range from local hikes, waterfalls, magical antique stores, excellent restaurants, and such like; these attractions are the Hidden Gems.  The majority of the Gems are not viewable from the website and show up as blurred images.  Once the guest books the Bed & Breakfast, all of the local Gems related that Bed & Breakfast can be viewed.   The local Gems allow the guest to immerse themselves within a new environment from a local perspective. "
   ]
  },
  {
   "cell_type": "markdown",
   "metadata": {},
   "source": [
    "# Contents:  \n",
    "- [API](#GeoSpatial-API)  \n",
    "    - Filters locations based on proximity to a binding venue using GIS data.\n",
    "    - geo_sort-key_bnb.py\n",
    "- [Questionaire Analytics](#Questionaire-Analytics)\n",
    "    - Descriptive Analytics from the questionnaire, including NLP analysis, word segmentation and sentiment analyzer.\n",
    "    <br>"
   ]
  },
  {
   "cell_type": "markdown",
   "metadata": {},
   "source": [
    "#### Contributions:\n",
    "  - Concept Brain storming   \n",
    "  - Team Communication   \n",
    "  - GeoSpatial Maniplation API \n",
    "  - Questionaire Analitics   "
   ]
  },
  {
   "cell_type": "markdown",
   "metadata": {},
   "source": [
    "# GeoSpatial API\n",
    "<hr/>"
   ]
  },
  {
   "cell_type": "markdown",
   "metadata": {},
   "source": [
    "**API** *function*\n",
    "- New Local Gems will be added by Bed & Breakfast owners (Through a process, guests will also be able to add Local Gems )\n",
    "- Once a guest books their stay, the API will sort through all the Gems using their geopositioning coordinates and select the Gems within a particular radius $(r_i)$ of the chosen Bed & Breakfast.  \n",
    "- This list of local Gems is returned to the Hidden Gem backend, creating a viewable linked page for the Local Gems.\n"
   ]
  },
  {
   "cell_type": "markdown",
   "metadata": {},
   "source": [
    "**Versions:**  \n",
    "- v1: API is passed Bed & Breakfast keys via , data is hard coded  \n",
    "- v2: API is passed Json file incudes all GIS data  \n",
    "- v3: API is passed Bed & Breakfast Keys via, and pulls Gems GIS data from SQL DataBase  "
   ]
  },
  {
   "cell_type": "markdown",
   "metadata": {},
   "source": [
    "# Questionaire Analytics\n",
    "<hr/>"
   ]
  },
  {
   "cell_type": "code",
   "execution_count": null,
   "metadata": {},
   "outputs": [],
   "source": []
  }
 ],
 "metadata": {
  "kernelspec": {
   "display_name": "Python 3",
   "language": "python",
   "name": "python3"
  },
  "language_info": {
   "codemirror_mode": {
    "name": "ipython",
    "version": 3
   },
   "file_extension": ".py",
   "mimetype": "text/x-python",
   "name": "python",
   "nbconvert_exporter": "python",
   "pygments_lexer": "ipython3",
   "version": "3.8.2"
  }
 },
 "nbformat": 4,
 "nbformat_minor": 4
}
